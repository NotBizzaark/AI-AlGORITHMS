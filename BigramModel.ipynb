{
  "nbformat": 4,
  "nbformat_minor": 0,
  "metadata": {
    "colab": {
      "provenance": [],
      "gpuType": "T4",
      "authorship_tag": "ABX9TyMhM3IwZbiiRJKqWFf9m9RM",
      "include_colab_link": true
    },
    "kernelspec": {
      "name": "python3",
      "display_name": "Python 3"
    },
    "language_info": {
      "name": "python"
    },
    "accelerator": "GPU"
  },
  "cells": [
    {
      "cell_type": "markdown",
      "metadata": {
        "id": "view-in-github",
        "colab_type": "text"
      },
      "source": [
        "<a href=\"https://colab.research.google.com/github/NotBizzaark/AI-AlGORITHMS/blob/main/BigramModel.ipynb\" target=\"_parent\"><img src=\"https://colab.research.google.com/assets/colab-badge.svg\" alt=\"Open In Colab\"/></a>"
      ]
    },
    {
      "cell_type": "code",
      "execution_count": 1,
      "metadata": {
        "id": "ToQEad4bw-53"
      },
      "outputs": [],
      "source": [
        "import torch\n",
        "from torch import nn\n",
        "from torch.nn import functional as F"
      ]
    },
    {
      "cell_type": "code",
      "source": [
        "# Dataset\n",
        "!wget https://raw.githubusercontent.com/karpathy/char-rnn/master/data/tinyshakespeare/input.txt"
      ],
      "metadata": {
        "colab": {
          "base_uri": "https://localhost:8080/"
        },
        "id": "Xb1ptvzmxIf_",
        "outputId": "21856261-65cd-4060-bcef-e4c64b753918"
      },
      "execution_count": 2,
      "outputs": [
        {
          "output_type": "stream",
          "name": "stdout",
          "text": [
            "--2025-03-21 17:04:10--  https://raw.githubusercontent.com/karpathy/char-rnn/master/data/tinyshakespeare/input.txt\n",
            "Resolving raw.githubusercontent.com (raw.githubusercontent.com)... 185.199.108.133, 185.199.109.133, 185.199.110.133, ...\n",
            "Connecting to raw.githubusercontent.com (raw.githubusercontent.com)|185.199.108.133|:443... connected.\n",
            "HTTP request sent, awaiting response... 200 OK\n",
            "Length: 1115394 (1.1M) [text/plain]\n",
            "Saving to: ‘input.txt’\n",
            "\n",
            "\rinput.txt             0%[                    ]       0  --.-KB/s               \rinput.txt           100%[===================>]   1.06M  --.-KB/s    in 0.01s   \n",
            "\n",
            "2025-03-21 17:04:10 (96.9 MB/s) - ‘input.txt’ saved [1115394/1115394]\n",
            "\n"
          ]
        }
      ]
    },
    {
      "cell_type": "code",
      "source": [
        "with open('input.txt', 'r', encoding='utf-8') as f:\n",
        "  text = f.read()"
      ],
      "metadata": {
        "id": "wFeei_l3xbjX"
      },
      "execution_count": 3,
      "outputs": []
    },
    {
      "cell_type": "code",
      "source": [
        "print(text[:1000])"
      ],
      "metadata": {
        "colab": {
          "base_uri": "https://localhost:8080/"
        },
        "id": "3luE01-Axpse",
        "outputId": "87f58655-e7fd-4a3f-aa88-b4f7b194160a"
      },
      "execution_count": 4,
      "outputs": [
        {
          "output_type": "stream",
          "name": "stdout",
          "text": [
            "First Citizen:\n",
            "Before we proceed any further, hear me speak.\n",
            "\n",
            "All:\n",
            "Speak, speak.\n",
            "\n",
            "First Citizen:\n",
            "You are all resolved rather to die than to famish?\n",
            "\n",
            "All:\n",
            "Resolved. resolved.\n",
            "\n",
            "First Citizen:\n",
            "First, you know Caius Marcius is chief enemy to the people.\n",
            "\n",
            "All:\n",
            "We know't, we know't.\n",
            "\n",
            "First Citizen:\n",
            "Let us kill him, and we'll have corn at our own price.\n",
            "Is't a verdict?\n",
            "\n",
            "All:\n",
            "No more talking on't; let it be done: away, away!\n",
            "\n",
            "Second Citizen:\n",
            "One word, good citizens.\n",
            "\n",
            "First Citizen:\n",
            "We are accounted poor citizens, the patricians good.\n",
            "What authority surfeits on would relieve us: if they\n",
            "would yield us but the superfluity, while it were\n",
            "wholesome, we might guess they relieved us humanely;\n",
            "but they think we are too dear: the leanness that\n",
            "afflicts us, the object of our misery, is as an\n",
            "inventory to particularise their abundance; our\n",
            "sufferance is a gain to them Let us revenge this with\n",
            "our pikes, ere we become rakes: for the gods know I\n",
            "speak this in hunger for bread, not in thirst for revenge.\n",
            "\n",
            "\n"
          ]
        }
      ]
    },
    {
      "cell_type": "code",
      "source": [
        "chars = sorted(list(set(text)))\n",
        "vocab_size = len(chars)"
      ],
      "metadata": {
        "id": "7p43s5OMxq5_"
      },
      "execution_count": 5,
      "outputs": []
    },
    {
      "cell_type": "code",
      "source": [
        "print(chars)\n",
        "print(vocab_size)"
      ],
      "metadata": {
        "colab": {
          "base_uri": "https://localhost:8080/"
        },
        "id": "eeIaQT0Yzs2l",
        "outputId": "c226a4aa-4c46-43e3-bafb-4a5d0e215133"
      },
      "execution_count": 6,
      "outputs": [
        {
          "output_type": "stream",
          "name": "stdout",
          "text": [
            "['\\n', ' ', '!', '$', '&', \"'\", ',', '-', '.', '3', ':', ';', '?', 'A', 'B', 'C', 'D', 'E', 'F', 'G', 'H', 'I', 'J', 'K', 'L', 'M', 'N', 'O', 'P', 'Q', 'R', 'S', 'T', 'U', 'V', 'W', 'X', 'Y', 'Z', 'a', 'b', 'c', 'd', 'e', 'f', 'g', 'h', 'i', 'j', 'k', 'l', 'm', 'n', 'o', 'p', 'q', 'r', 's', 't', 'u', 'v', 'w', 'x', 'y', 'z']\n",
            "65\n"
          ]
        }
      ]
    },
    {
      "cell_type": "code",
      "source": [
        "stoi = {ch:i for i, ch in enumerate(chars)}\n",
        "itos = {i:ch for i, ch in enumerate(chars)}\n",
        "\n",
        "encode = lambda s: [stoi[c] for c in s]\n",
        "decode = lambda l: \"\".join(itos[i] for i in l)"
      ],
      "metadata": {
        "id": "ZJqb7964eWo_"
      },
      "execution_count": 7,
      "outputs": []
    },
    {
      "cell_type": "code",
      "source": [
        "print(encode(\"hello\"))"
      ],
      "metadata": {
        "colab": {
          "base_uri": "https://localhost:8080/"
        },
        "id": "qmJpTqjRhsfl",
        "outputId": "18a7530e-de7a-4d3c-e2e6-9aaf156325c5"
      },
      "execution_count": 8,
      "outputs": [
        {
          "output_type": "stream",
          "name": "stdout",
          "text": [
            "[46, 43, 50, 50, 53]\n"
          ]
        }
      ]
    },
    {
      "cell_type": "code",
      "source": [
        "encoded = torch.tensor(encode(text), dtype=torch.long)\n",
        "print(encoded)"
      ],
      "metadata": {
        "colab": {
          "base_uri": "https://localhost:8080/"
        },
        "id": "g7Toa6W_iBxF",
        "outputId": "5347eda0-060d-442e-f431-b300ed066e31"
      },
      "execution_count": 9,
      "outputs": [
        {
          "output_type": "stream",
          "name": "stdout",
          "text": [
            "tensor([18, 47, 56,  ..., 45,  8,  0])\n"
          ]
        }
      ]
    },
    {
      "cell_type": "code",
      "source": [
        "inputs = encoded[:-1]\n",
        "targets = encoded[1:]"
      ],
      "metadata": {
        "id": "4-YxNIzPjGa4"
      },
      "execution_count": 10,
      "outputs": []
    },
    {
      "cell_type": "code",
      "source": [
        "seq_length = 5\n",
        "batch_size = len(text)\n",
        "\n",
        "input_tokens = torch.randint(0, vocab_size, (batch_size, seq_length))\n",
        "target_tokens = torch.randint(0, vocab_size, (batch_size, seq_length))"
      ],
      "metadata": {
        "id": "q5yaXnuxjsVP"
      },
      "execution_count": 11,
      "outputs": []
    },
    {
      "cell_type": "code",
      "source": [
        "class BigramModel(nn.Module):\n",
        "  def __init__(self, vocab_size):\n",
        "    super().__init__()\n",
        "    self.embedding_table = nn.Embedding(vocab_size, vocab_size)\n",
        "\n",
        "  def forward(self, index, targets=None):\n",
        "    logits = self.embedding_table(index)\n",
        "\n",
        "    if targets == None:\n",
        "      return logits\n",
        "\n",
        "    B, T, V = logits.shape\n",
        "    logits = logits.reshape(B*T, V)\n",
        "    targets = targets.reshape(B * T)\n",
        "\n",
        "    loss = F.cross_entropy(logits, targets)\n",
        "\n",
        "    return logits, loss"
      ],
      "metadata": {
        "id": "HYcVq9gwp-Gh"
      },
      "execution_count": 53,
      "outputs": []
    },
    {
      "cell_type": "code",
      "source": [
        "model = BigramModel(vocab_size)"
      ],
      "metadata": {
        "id": "eXqx4AaWvzZ_"
      },
      "execution_count": 13,
      "outputs": []
    },
    {
      "cell_type": "code",
      "source": [
        "logits, loss = model(input_tokens, target_tokens)"
      ],
      "metadata": {
        "id": "e43hZgcewMIa"
      },
      "execution_count": 14,
      "outputs": []
    },
    {
      "cell_type": "code",
      "source": [
        "loss.item()"
      ],
      "metadata": {
        "colab": {
          "base_uri": "https://localhost:8080/"
        },
        "id": "z-LskPfJwUxI",
        "outputId": "de9708d8-670b-415e-d4d5-9d3c10d534f9"
      },
      "execution_count": 15,
      "outputs": [
        {
          "output_type": "execute_result",
          "data": {
            "text/plain": [
              "4.636580944061279"
            ]
          },
          "metadata": {},
          "execution_count": 15
        }
      ]
    },
    {
      "cell_type": "code",
      "source": [
        "optimizer = torch.optim.Adam(model.parameters(), lr =0.001)"
      ],
      "metadata": {
        "id": "lgc4nyyfyk8D"
      },
      "execution_count": 16,
      "outputs": []
    },
    {
      "cell_type": "code",
      "source": [
        "import time\n",
        "start_time = time.time()\n",
        "torch.manual_seed(1337)\n",
        "\n",
        "epochs = 1000\n",
        "losses = []\n",
        "\n",
        "for i in range(epochs):\n",
        "  optimizer.zero_grad()\n",
        "  logit, loss = model(input_tokens, target_tokens)\n",
        "  loss.backward()\n",
        "  optimizer.step()\n",
        "\n",
        "  if i%50 == 0:\n",
        "    print(f\"Epochs {i}, Loss: {loss.item()}\")\n",
        "\n",
        "end_time = time.time()\n",
        "\n",
        "print(f\"Training Complete in {(end_time-start_time)/60} minutes!!!\")\n",
        "\n"
      ],
      "metadata": {
        "colab": {
          "base_uri": "https://localhost:8080/"
        },
        "id": "fKgc6U5i2i25",
        "outputId": "a5a3c8ee-e121-4a14-9dbe-cfd95ef77f61"
      },
      "execution_count": 17,
      "outputs": [
        {
          "output_type": "stream",
          "name": "stdout",
          "text": [
            "Epochs 0, Loss: 4.636580944061279\n",
            "Epochs 50, Loss: 4.601165294647217\n",
            "Epochs 100, Loss: 4.568545341491699\n",
            "Epochs 150, Loss: 4.5385212898254395\n",
            "Epochs 200, Loss: 4.5108442306518555\n",
            "Epochs 250, Loss: 4.48530387878418\n",
            "Epochs 300, Loss: 4.4617204666137695\n",
            "Epochs 350, Loss: 4.439933776855469\n",
            "Epochs 400, Loss: 4.419800758361816\n",
            "Epochs 450, Loss: 4.401190280914307\n",
            "Epochs 500, Loss: 4.383984088897705\n",
            "Epochs 550, Loss: 4.368072509765625\n",
            "Epochs 600, Loss: 4.3533549308776855\n",
            "Epochs 650, Loss: 4.339742183685303\n",
            "Epochs 700, Loss: 4.327147483825684\n",
            "Epochs 750, Loss: 4.315495014190674\n",
            "Epochs 800, Loss: 4.304712295532227\n",
            "Epochs 850, Loss: 4.29473352432251\n",
            "Epochs 900, Loss: 4.28549861907959\n",
            "Epochs 950, Loss: 4.276950359344482\n",
            "Training Complete in 118.59437011480331 minutes!!!\n"
          ]
        }
      ]
    },
    {
      "cell_type": "code",
      "source": [
        "model = BigramModel(vocab_size)"
      ],
      "metadata": {
        "id": "6GjQTh9w4GX1"
      },
      "execution_count": 35,
      "outputs": []
    },
    {
      "cell_type": "code",
      "source": [
        "def generate(model, start_token, max_length = 40):\n",
        "  model.eval()\n",
        "  idx = torch.tensor([[start_token]], dtype = torch.long)\n",
        "\n",
        "  output_tokens = [start_token]\n",
        "\n",
        "  for _ in range(max_length - 1):\n",
        "    logits = model(idx)\n",
        "    probs = torch.softmax(logits[:, -1, :], dim=-1)\n",
        "    next_token = torch.multinomial(probs, num_samples=1)\n",
        "    if next_token not in itos:\n",
        "      next_token = start_token\n",
        "\n",
        "    output_tokens.append(next_token)\n",
        "    idx = torch.tensor([[next_token]], dtype=torch.long)\n",
        "\n",
        "  return decode(output_tokens)"
      ],
      "metadata": {
        "id": "2S4qV3JHOAgj"
      },
      "execution_count": 66,
      "outputs": []
    },
    {
      "cell_type": "code",
      "source": [
        "start_char = 'o'\n",
        "start_token = stoi[start_char]\n",
        "\n",
        "# Generate and print text\n",
        "generated_text = generate(model, start_token, max_length=20)\n",
        "print(\"Generated Text:\", generated_text)"
      ],
      "metadata": {
        "colab": {
          "base_uri": "https://localhost:8080/"
        },
        "id": "qyo-QPcVPpuC",
        "outputId": "ca180de1-4f12-453f-c1e4-627f3f47a7fe"
      },
      "execution_count": 69,
      "outputs": [
        {
          "output_type": "stream",
          "name": "stdout",
          "text": [
            "Generated Text: oooooooooooooooooooo\n"
          ]
        }
      ]
    }
  ]
}