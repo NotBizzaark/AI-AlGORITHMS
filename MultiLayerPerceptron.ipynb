{
 "cells": [
  {
   "cell_type": "code",
   "execution_count": 1,
   "metadata": {},
   "outputs": [],
   "source": [
    "import numpy as np \n",
    "import matplotlib.pyplot as plt"
   ]
  },
  {
   "cell_type": "code",
   "execution_count": 2,
   "metadata": {},
   "outputs": [],
   "source": [
    "def sigmoid(z):\n",
    "    z= 1/(1+np.exp(-z))\n",
    "    return z\n",
    "\n",
    "def frwd_prop(w1,w2,x):\n",
    "    z1 = np.dot(w1,x)\n",
    "    a1 = sigmoid(z1)\n",
    "    z2 = np.dot(w2,a1)\n",
    "    a2 = sigmoid(z2)\n",
    "    return z1,a1,z2,a2\n",
    "\n",
    "def back_prop(tot,w1,w2,x,a1,z2,a2,y):\n",
    "    dz2 = a2-y\n",
    "    dw2 = np.dot(dz2,a1.T)/tot\n",
    "    dz1 = np.dot(w2.T,dz2)* a1*(1-a1)\n",
    "    dw1 = np.dot(dz1,x.T)/tot\n",
    "    dw1 = np.reshape(dw1,w1.shape)\n",
    "\n",
    "    dw2 = np.reshape(dw2,w2.shape)\n",
    "    return dz2,dw2,dz1,dw1\n",
    "\n",
    "def predict(w1,w2,input):\n",
    "    z1, a1, z2, a2 = frwd_prop(w1,w2,input)\n",
    "    a2 = np.squeeze(a2)\n",
    "    if a2 >= 0.5:\n",
    "        print(\"For Input \",[i[0] for i in input],\"output is 1\")\n",
    "    else:\n",
    "        print(\"For Input \",[i[0] for i in input],\"output is 0\")"
   ]
  },
  {
   "cell_type": "code",
   "execution_count": 3,
   "metadata": {},
   "outputs": [],
   "source": [
    "x = np.array([[0,0,1,1],[0,1,0,1]])\n",
    "y = np.array([0,1,1,0])\n",
    "\n",
    "no_x = 2\n",
    "no_y = 1\n",
    "no_h = 2\n",
    "\n",
    "tot = x.shape[1]\n",
    "lr = 0.1\n",
    "\n",
    "np.random.seed(2)\n",
    "\n",
    "w1 = np.random.rand(no_h,no_x)\n",
    "w2 = np.random.rand(no_y,no_h)\n",
    "losses = []"
   ]
  },
  {
   "cell_type": "code",
   "execution_count": 4,
   "metadata": {},
   "outputs": [
    {
     "data": {
      "text/plain": [
       "Text(0, 0.5, 'Loss value')"
      ]
     },
     "execution_count": 4,
     "metadata": {},
     "output_type": "execute_result"
    },
    {
     "data": {
      "image/png": "[encoded data removed]",
      "text/plain": [
       "<Figure size 432x288 with 1 Axes>"
      ]
     },
     "metadata": {
      "needs_background": "light"
     },
     "output_type": "display_data"
    }
   ],
   "source": [
    "epochs = 20000\n",
    "for i in range(epochs):\n",
    "    z1,a1,z2,a2 = frwd_prop(w1,w2,x)\n",
    "    loss = -(1/tot) * np.sum(y * np.log(a2)+(1-y)*np.log(1-a2))\n",
    "    losses.append(loss)\n",
    "    da2, dw2, dz1, dw1 = back_prop(tot,w1,w2,x,a1,z2,a2,y)\n",
    "    w2 = w2-lr*dw2\n",
    "    w1 = w1-lr*dw1\n",
    "\n",
    "plt.plot(losses)\n",
    "plt.xlabel(\"Epochs\")\n",
    "plt.ylabel(\"Loss value\")"
   ]
  },
  {
   "cell_type": "code",
   "execution_count": 5,
   "metadata": {},
   "outputs": [
    {
     "name": "stdout",
     "output_type": "stream",
     "text": [
      "For Input  [1, 0] output is 1\n",
      "For Input  [0, 0] output is 0\n",
      "For Input  [0, 1] output is 1\n",
      "For Input  [1, 1] output is 0\n"
     ]
    }
   ],
   "source": [
    "mlp_test = np.array([[1],[0]])\n",
    "predict(w1,w2,mlp_test)\n",
    "\n",
    "mlp_test = np.array([[0],[0]])\n",
    "predict(w1,w2,mlp_test)\n",
    "\n",
    "mlp_test = np.array([[0],[1]])\n",
    "predict(w1,w2,mlp_test)\n",
    "\n",
    "mlp_test = np.array([[1],[1]])\n",
    "predict(w1,w2,mlp_test)\n"
   ]
  }
 ],
 "metadata": {
  "kernelspec": {
   "display_name": "Python 3",
   "language": "python",
   "name": "python3"
  },
  "language_info": {
   "codemirror_mode": {
    "name": "ipython",
    "version": 3
   },
   "file_extension": ".py",
   "mimetype": "text/x-python",
   "name": "python",
   "nbconvert_exporter": "python",
   "pygments_lexer": "ipython3",
   "version": "3.10.6"
  },
  "orig_nbformat": 4
 },
 "nbformat": 4,
 "nbformat_minor": 2
}
